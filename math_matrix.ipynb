{
  "nbformat": 4,
  "nbformat_minor": 0,
  "metadata": {
    "colab": {
      "provenance": [],
      "authorship_tag": "ABX9TyPV7pGxsmzqbOlQBBLpzHd5",
      "include_colab_link": true
    },
    "kernelspec": {
      "name": "python3",
      "display_name": "Python 3"
    },
    "language_info": {
      "name": "python"
    }
  },
  "cells": [
    {
      "cell_type": "markdown",
      "metadata": {
        "id": "view-in-github",
        "colab_type": "text"
      },
      "source": [
        "<a href=\"https://colab.research.google.com/github/Hristo2076/it-s-the-math/blob/main/math_matrix.ipynb\" target=\"_parent\"><img src=\"https://colab.research.google.com/assets/colab-badge.svg\" alt=\"Open In Colab\"/></a>"
      ]
    },
    {
      "cell_type": "code",
      "execution_count": null,
      "metadata": {
        "id": "Cq0Q7gzeQTfV"
      },
      "outputs": [],
      "source": [
        "import numpy as np"
      ]
    },
    {
      "cell_type": "markdown",
      "source": [
        "#**Задание 1**"
      ],
      "metadata": {
        "id": "Ox0M7ipCUR4Y"
      }
    },
    {
      "cell_type": "code",
      "source": [
        "#Создайте матрицу 3 на 3, заполненную числами от 1 до 9 \n",
        "matrix_1 = np.random.randint(1,9,size=(3,3))\n",
        "matrix_1"
      ],
      "metadata": {
        "colab": {
          "base_uri": "https://localhost:8080/"
        },
        "id": "AdqT8vF3QcIM",
        "outputId": "712809f3-5e10-42e3-d4f4-ad1d1b491fe0"
      },
      "execution_count": null,
      "outputs": [
        {
          "output_type": "execute_result",
          "data": {
            "text/plain": [
              "array([[8, 7, 8],\n",
              "       [3, 1, 3],\n",
              "       [2, 3, 6]])"
            ]
          },
          "metadata": {},
          "execution_count": 5
        }
      ]
    },
    {
      "cell_type": "code",
      "source": [
        "matrix_2 = np.eye(3)\n",
        "matrix_2"
      ],
      "metadata": {
        "colab": {
          "base_uri": "https://localhost:8080/"
        },
        "id": "IdduDPLmSovL",
        "outputId": "34c72487-0ad8-44cd-c1fb-8ff0faec0158"
      },
      "execution_count": null,
      "outputs": [
        {
          "output_type": "execute_result",
          "data": {
            "text/plain": [
              "array([[1., 0., 0.],\n",
              "       [0., 1., 0.],\n",
              "       [0., 0., 1.]])"
            ]
          },
          "metadata": {},
          "execution_count": 7
        }
      ]
    },
    {
      "cell_type": "code",
      "source": [
        "#Прибавьте к ней матрицу с единицами на диагонале \n",
        "matrix_3 = matrix_1 + matrix_2\n",
        "matrix_3"
      ],
      "metadata": {
        "colab": {
          "base_uri": "https://localhost:8080/"
        },
        "id": "AZctywGuTNXJ",
        "outputId": "a99d8eaa-a453-48d9-b168-b240e7c04432"
      },
      "execution_count": null,
      "outputs": [
        {
          "output_type": "execute_result",
          "data": {
            "text/plain": [
              "array([[9., 7., 8.],\n",
              "       [3., 2., 3.],\n",
              "       [2., 3., 7.]])"
            ]
          },
          "metadata": {},
          "execution_count": 13
        }
      ]
    },
    {
      "cell_type": "code",
      "source": [
        "#Умножьте полученную матрицу на вектор (1, 2, 3)\n",
        "res_1 = np.dot(matrix_3,[1,2,3])\n",
        "res_1"
      ],
      "metadata": {
        "colab": {
          "base_uri": "https://localhost:8080/"
        },
        "id": "EbbmUbYPTVXO",
        "outputId": "0da955c9-22b6-44ba-bd01-8d92bb97cb77"
      },
      "execution_count": null,
      "outputs": [
        {
          "output_type": "execute_result",
          "data": {
            "text/plain": [
              "array([47., 16., 29.])"
            ]
          },
          "metadata": {},
          "execution_count": 14
        }
      ]
    },
    {
      "cell_type": "code",
      "source": [
        "aT = matrix_1.T\n",
        "aT"
      ],
      "metadata": {
        "colab": {
          "base_uri": "https://localhost:8080/"
        },
        "id": "VmnqptYBT0jY",
        "outputId": "6e164cd5-dd3c-4ad5-af64-03c55f980dc9"
      },
      "execution_count": null,
      "outputs": [
        {
          "output_type": "execute_result",
          "data": {
            "text/plain": [
              "array([[8, 3, 2],\n",
              "       [7, 1, 3],\n",
              "       [8, 3, 6]])"
            ]
          },
          "metadata": {},
          "execution_count": 16
        }
      ]
    },
    {
      "cell_type": "code",
      "source": [
        "#Вычислить транспонированную матрицу  от полученной в результате прибавления матрицы \n",
        "res_2 = matrix_3 - aT\n",
        "res_2"
      ],
      "metadata": {
        "colab": {
          "base_uri": "https://localhost:8080/"
        },
        "id": "jcNLcxT-T7iv",
        "outputId": "4edc0381-2926-4dab-eb4f-7505d2bd51da"
      },
      "execution_count": null,
      "outputs": [
        {
          "output_type": "execute_result",
          "data": {
            "text/plain": [
              "array([[ 1.,  4.,  6.],\n",
              "       [-4.,  1.,  0.],\n",
              "       [-6.,  0.,  1.]])"
            ]
          },
          "metadata": {},
          "execution_count": 17
        }
      ]
    },
    {
      "cell_type": "code",
      "source": [
        "#Посчитайте обратную матрицу к полученной в результате прибавления матрице\n",
        "res_3 = np.linalg.inv(matrix_3)\n",
        "res_3"
      ],
      "metadata": {
        "colab": {
          "base_uri": "https://localhost:8080/"
        },
        "id": "WH9rtc_PU-i1",
        "outputId": "b6b98604-ae2e-4f69-e34e-c0013c3b87ad"
      },
      "execution_count": null,
      "outputs": [
        {
          "output_type": "execute_result",
          "data": {
            "text/plain": [
              "array([[-0.25,  1.25, -0.25],\n",
              "       [ 0.75, -2.35,  0.15],\n",
              "       [-0.25,  0.65,  0.15]])"
            ]
          },
          "metadata": {},
          "execution_count": 18
        }
      ]
    },
    {
      "cell_type": "markdown",
      "source": [
        "#**Уровень 1:**\n",
        "**Задание 2**"
      ],
      "metadata": {
        "id": "YanqZlYjVlDT"
      }
    },
    {
      "cell_type": "code",
      "source": [
        "#Найдите собственные значения и собственные вектора матрицы:\n",
        "\n",
        "m = np.array([[2,2],\n",
        "             [1,3]])\n",
        "m"
      ],
      "metadata": {
        "colab": {
          "base_uri": "https://localhost:8080/"
        },
        "id": "lx4Efa8TVuw8",
        "outputId": "f1a5a31c-6a2e-4a84-ebc6-b9b84b02e03e"
      },
      "execution_count": null,
      "outputs": [
        {
          "output_type": "execute_result",
          "data": {
            "text/plain": [
              "array([[2, 2],\n",
              "       [1, 3]])"
            ]
          },
          "metadata": {},
          "execution_count": 20
        }
      ]
    },
    {
      "cell_type": "code",
      "source": [
        "#собственные значения\n",
        "eigvals_ = np.linalg.eig(m)[0]\n",
        "eigvals_"
      ],
      "metadata": {
        "colab": {
          "base_uri": "https://localhost:8080/"
        },
        "id": "63mrJCXIWEjV",
        "outputId": "f9003ce9-509b-4ebc-c69a-aa32d8589f5f"
      },
      "execution_count": null,
      "outputs": [
        {
          "output_type": "execute_result",
          "data": {
            "text/plain": [
              "array([1., 4.])"
            ]
          },
          "metadata": {},
          "execution_count": 22
        }
      ]
    },
    {
      "cell_type": "code",
      "source": [
        "#собственные вектора\n",
        "\n",
        "self_vec = np.linalg.eig(m)[1]\n",
        "self_vec"
      ],
      "metadata": {
        "colab": {
          "base_uri": "https://localhost:8080/"
        },
        "id": "fr1YdSmHW0EJ",
        "outputId": "94fbca07-1642-46eb-912e-2209aca29b32"
      },
      "execution_count": null,
      "outputs": [
        {
          "output_type": "execute_result",
          "data": {
            "text/plain": [
              "array([[-0.89442719, -0.70710678],\n",
              "       [ 0.4472136 , -0.70710678]])"
            ]
          },
          "metadata": {},
          "execution_count": 23
        }
      ]
    },
    {
      "cell_type": "markdown",
      "source": [
        "**Задание 3** \\\n",
        "Придумайте матрицу, у которой определитель = 1, и все элементы не равны 0. \\\n",
        "\n",
        "P.S. Матрица должна быть ненулевой и размерностью не менее 2!"
      ],
      "metadata": {
        "id": "xvOcK0qKXNRr"
      }
    },
    {
      "cell_type": "code",
      "source": [
        "M = np.random.randint(2,8,size=(4,4))\n",
        "det_ = np.linalg.det(M)\n",
        "while det_ != 1:\n",
        "  M = np.random.randint(2,8,size=(4,4))\n",
        "  det_ = np.linalg.det(M)\n",
        "print(M,det_)"
      ],
      "metadata": {
        "colab": {
          "base_uri": "https://localhost:8080/"
        },
        "id": "311F1ndvXM0O",
        "outputId": "0b8a7125-51c8-4eda-e051-f0ce858c09e1"
      },
      "execution_count": null,
      "outputs": [
        {
          "output_type": "stream",
          "name": "stdout",
          "text": [
            "[[6 2 5 4]\n",
            " [3 4 6 3]\n",
            " [2 5 4 4]\n",
            " [4 6 7 5]] 1.0\n"
          ]
        }
      ]
    }
  ]
}