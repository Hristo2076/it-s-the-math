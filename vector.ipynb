{
  "nbformat": 4,
  "nbformat_minor": 0,
  "metadata": {
    "colab": {
      "provenance": [],
      "authorship_tag": "ABX9TyMAQERPytaOyFksF9swFrbM",
      "include_colab_link": true
    },
    "kernelspec": {
      "name": "python3",
      "display_name": "Python 3"
    },
    "language_info": {
      "name": "python"
    }
  },
  "cells": [
    {
      "cell_type": "markdown",
      "metadata": {
        "id": "view-in-github",
        "colab_type": "text"
      },
      "source": [
        "<a href=\"https://colab.research.google.com/github/Hristo2076/it-s-the-math/blob/main/vector.ipynb\" target=\"_parent\"><img src=\"https://colab.research.google.com/assets/colab-badge.svg\" alt=\"Open In Colab\"/></a>"
      ]
    },
    {
      "cell_type": "markdown",
      "source": [
        "#**Уровень 0:**\n"
      ],
      "metadata": {
        "id": "lhvOnSyN8SVE"
      }
    },
    {
      "cell_type": "markdown",
      "source": [
        "Представим фильмы в виде бинарных векторов (numpy array) используя следующие признаки: \\\n",
        "[Комедия, Боевик, Исторический, Бред Питт, Бенедикт Камбербэтч, Квентин Тарантино] \\\n",
        "Игра в имитацию \\\n",
        "\n",
        "Ярость \\\n",
        "\n",
        "12 лет рабства \\\n",
        "\n",
        "Однажды в Голливуде \\\n",
        "\n",
        "film_1 = np.array([0,0,0,0,1,0])      # Игра в имитацию \\\n",
        "\n",
        "film_2 = np.array([0,1,0,1,0,0])      # Ярость \\\n",
        "\n",
        "film_3 = np.array([0,0,1,1,1,0])      # 12 лет рабства \\\n",
        "\n",
        "film_4 = np.array([1,0,0,1,0,1])      # Однажды в Голливуде \\"
      ],
      "metadata": {
        "id": "uoPd3h_zAIU-"
      }
    },
    {
      "cell_type": "code",
      "source": [
        "import numpy as np"
      ],
      "metadata": {
        "id": "L-liSPDz8vZk"
      },
      "execution_count": 1,
      "outputs": []
    },
    {
      "cell_type": "code",
      "execution_count": 6,
      "metadata": {
        "id": "07z4wfJx8ERn"
      },
      "outputs": [],
      "source": [
        "a = np.array([0,0,0,0,1,0]) # Игра в имитацию\n",
        "\n",
        "b = np.array([0,1,0,1,0,0]) # Ярость\n",
        "\n",
        "c = np.array([0,0,1,1,1,0]) # 12 лет рабства\n",
        "\n",
        "d = np.array([1,0,0,1,0,1]) # Однажды в Голливуде"
      ]
    },
    {
      "cell_type": "markdown",
      "source": [
        "# **Задание 1**\n",
        "Найти угол между векторами-фильмами \"Ярость\" и \"12 лет рабства\". Результатом будет являться косинусная мера, которую можно использовать для определения похожести векторов."
      ],
      "metadata": {
        "id": "B_KjbHUJ88cw"
      }
    },
    {
      "cell_type": "code",
      "source": [
        "from numpy.linalg.linalg import norm\n",
        "norm_b = np.linalg.norm(b)\n",
        "norm_c =  np.linalg.norm(c)\n",
        "mul = norm_b * norm_c\n",
        "cos_bc = np.dot(b,c)/mul\n",
        "angel = np.rad2deg(np.arccos(cos_bc))\n",
        "\n",
        "print(f'Hормальное распределение вектора b: {norm_b}')\n",
        "print(f'Hормальное распределение вектора c: {norm_c}')\n",
        "print(f'Скалярное произведение векторов b and c: {mul}')\n",
        "print(f'Косинус угла между веторами  b and c: {cos_bc}')\n",
        "print(f'Угол между веторами  b and c: {angel}')"
      ],
      "metadata": {
        "colab": {
          "base_uri": "https://localhost:8080/"
        },
        "id": "STJoFoNE85Ge",
        "outputId": "94cce0f7-888b-4203-bf15-4313eab75495"
      },
      "execution_count": null,
      "outputs": [
        {
          "output_type": "stream",
          "name": "stdout",
          "text": [
            "Hормальное распределение вектора b: 1.4142135623730951\n",
            "Hормальное распределение вектора c: 1.7320508075688772\n",
            "Скалярное произведение векторов b and c: 2.4494897427831783\n",
            "Косинус угла между веторами  b and c: 0.40824829046386296\n",
            "Угол между веторами  b and c: 65.90515744788931\n"
          ]
        }
      ]
    },
    {
      "cell_type": "markdown",
      "source": [
        "#**Уровень 1:** \n",
        "**Задание 2** \\\n",
        "Вычислить с помощью Python значение первой производной для функции \\\n",
        "8x(x + 3) ** 2 в точке x = 1 "
      ],
      "metadata": {
        "id": "a5CzOaSe_3_t"
      }
    },
    {
      "cell_type": "code",
      "source": [
        "import sympy as sym"
      ],
      "metadata": {
        "id": "zU1J2zj6-7v9"
      },
      "execution_count": 2,
      "outputs": []
    },
    {
      "cell_type": "code",
      "source": [
        "x = sym.Symbol('x')\n"
      ],
      "metadata": {
        "id": "O7or4BlVE9-2"
      },
      "execution_count": 3,
      "outputs": []
    },
    {
      "cell_type": "code",
      "source": [
        "res = 8 * x * (x + 3)**2\n",
        "res"
      ],
      "metadata": {
        "colab": {
          "base_uri": "https://localhost:8080/",
          "height": 39
        },
        "id": "fTMSS5p8FNra",
        "outputId": "f33f0737-6ea4-49f1-db19-b24266b00362"
      },
      "execution_count": 4,
      "outputs": [
        {
          "output_type": "execute_result",
          "data": {
            "text/plain": [
              "8*x*(x + 3)**2"
            ],
            "text/latex": "$\\displaystyle 8 x \\left(x + 3\\right)^{2}$"
          },
          "metadata": {},
          "execution_count": 4
        }
      ]
    },
    {
      "cell_type": "code",
      "source": [
        "res.subs(x,1)"
      ],
      "metadata": {
        "colab": {
          "base_uri": "https://localhost:8080/",
          "height": 37
        },
        "id": "el5AfETKFV1U",
        "outputId": "dad9d724-2389-452d-ef41-209f484beff5"
      },
      "execution_count": 5,
      "outputs": [
        {
          "output_type": "execute_result",
          "data": {
            "text/plain": [
              "128"
            ],
            "text/latex": "$\\displaystyle 128$"
          },
          "metadata": {},
          "execution_count": 5
        }
      ]
    },
    {
      "cell_type": "markdown",
      "source": [
        "**Задание 3** \\\n",
        "Объединить векторы фильмов в матрицу, где каждый вектор является строкой матрицы. \\\n",
        "Умножьте вектор [1,2,3,4] на полученную матрицу"
      ],
      "metadata": {
        "id": "RdImvI3EFsAJ"
      }
    },
    {
      "cell_type": "code",
      "source": [
        "films_matrix = np.array([a, b, c, d])\n",
        "test_vector = np.array([1,2,3,4])\n",
        "\n",
        "np.dot(test_vector,films_matrix)"
      ],
      "metadata": {
        "colab": {
          "base_uri": "https://localhost:8080/"
        },
        "id": "Lg1ky-sNF1Rm",
        "outputId": "4664f1a7-b94d-4f9f-ad25-48db112ca0af"
      },
      "execution_count": 13,
      "outputs": [
        {
          "output_type": "execute_result",
          "data": {
            "text/plain": [
              "array([4, 2, 3, 9, 4, 4])"
            ]
          },
          "metadata": {},
          "execution_count": 13
        }
      ]
    }
  ]
}